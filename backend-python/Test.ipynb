{
 "cells": [
  {
   "cell_type": "code",
   "execution_count": 9,
   "id": "7f4732af",
   "metadata": {},
   "outputs": [
    {
     "name": "stdout",
     "output_type": "stream",
     "text": [
      "{'ip': '2620:f3:8000:5060:bc32:e1c:7a22:2dc5', 'network': '2620:f3:8000::/48', 'version': 'IPv6', 'city': 'Chicago', 'region': 'Illinois', 'region_code': 'IL', 'country': 'US', 'country_name': 'United States', 'country_code': 'US', 'country_code_iso3': 'USA', 'country_capital': 'Washington', 'country_tld': '.us', 'continent_code': 'NA', 'in_eu': False, 'postal': '60616', 'latitude': 41.8486, 'longitude': -87.6288, 'timezone': 'America/Chicago', 'utc_offset': '-0500', 'country_calling_code': '+1', 'currency': 'USD', 'currency_name': 'Dollar', 'languages': 'en-US,es-US,haw,fr', 'country_area': 9629091.0, 'country_population': 327167434, 'asn': 'AS29825', 'org': 'IIT-NETWORK-AS'}\n"
     ]
    }
   ],
   "source": [
    "import requests\n",
    "\n",
    "def get_location():\n",
    "    response = requests.get(\"https://ipapi.co/json/\")\n",
    "    location_data = response.json()\n",
    "    return location_data\n",
    "\n",
    "location = get_location()\n",
    "print(location)"
   ]
  },
  {
   "cell_type": "code",
   "execution_count": null,
   "id": "d18d443d",
   "metadata": {},
   "outputs": [],
   "source": []
  },
  {
   "cell_type": "code",
   "execution_count": null,
   "id": "4222e2b3",
   "metadata": {},
   "outputs": [],
   "source": []
  }
 ],
 "metadata": {
  "kernelspec": {
   "display_name": "Python 3 (ipykernel)",
   "language": "python",
   "name": "python3"
  },
  "language_info": {
   "codemirror_mode": {
    "name": "ipython",
    "version": 3
   },
   "file_extension": ".py",
   "mimetype": "text/x-python",
   "name": "python",
   "nbconvert_exporter": "python",
   "pygments_lexer": "ipython3",
   "version": "3.11.3"
  },
  "vp": {
   "vp_config_version": "1.0.0",
   "vp_menu_width": 273,
   "vp_note_display": false,
   "vp_note_width": 0,
   "vp_position": {
    "width": 278
   },
   "vp_section_display": false,
   "vp_signature": "VisualPython"
  }
 },
 "nbformat": 4,
 "nbformat_minor": 5
}
